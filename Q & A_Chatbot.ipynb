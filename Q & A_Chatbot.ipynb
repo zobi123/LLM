{
 "cells": [
  {
   "cell_type": "code",
   "execution_count": 29,
   "metadata": {},
   "outputs": [],
   "source": [
    "from dotenv import load_dotenv\n",
    "import os\n",
    "from langchain_groq import ChatGroq\n",
    "from langchain.prompts import PromptTemplate\n",
    "from langchain_core.output_parsers import StrOutputParser\n",
    "from langchain_community.document_loaders import PyPDFLoader, TextLoader\n",
    "from langchain.text_splitter import RecursiveCharacterTextSplitter\n",
    "from langchain_community.vectorstores import FAISS\n",
    "from langchain_core.runnables import RunnablePassthrough, RunnableParallel\n",
    "from langchain_community.embeddings import FakeEmbeddings\n",
    "\n"
   ]
  },
  {
   "cell_type": "code",
   "execution_count": 30,
   "metadata": {},
   "outputs": [],
   "source": [
    "load_dotenv()\n",
    "API_KEY=os.getenv('Key')\n",
    "Model=\"llama-3.1-70b-versatile\""
   ]
  },
  {
   "cell_type": "code",
   "execution_count": 31,
   "metadata": {},
   "outputs": [
    {
     "data": {
      "text/plain": [
       "AIMessage(content='Coding, also known as computer programming, is the process of designing, writing, testing, and maintaining the instructions that a computer follows to perform a specific task. These instructions, called \"code,\" are written in one or more programming languages, which are used to communicate with a computer.\\n\\nThink of coding like writing a recipe for your favorite dish. Just as a recipe provides step-by-step instructions for preparing a meal, code provides instructions for a computer to execute a specific task, such as:\\n\\n* Calculating a math problem\\n* Sorting data\\n* Displaying a website\\n* Playing a game\\n* Controlling a robot\\n\\nCoding involves several steps:\\n\\n1. **Design**: Decide what you want the computer to do and how it will do it.\\n2. **Write**: Write the code in a programming language, such as Python, Java, or C++.\\n3. **Test**: Run the code to see if it works as expected.\\n4. **Debug**: Fix any errors or bugs in the code.\\n5. **Maintain**: Update and modify the code as needed.\\n\\nCoding is used in many areas, including:\\n\\n* Web development (building websites and web applications)\\n* Mobile app development (building apps for smartphones and tablets)\\n* Artificial intelligence and machine learning\\n* Data analysis and science\\n* Gaming\\n* Robotics\\n\\nThere are many types of coding, including:\\n\\n* **Front-end development**: Building the user interface and user experience of a website or app.\\n* **Back-end development**: Building the server-side logic and database integration of a website or app.\\n* **Full-stack development**: Building both the front-end and back-end of a website or app.\\n\\nCoding is a valuable skill that can be used in many different careers, and it\\'s also a fun and rewarding hobby.', response_metadata={'token_usage': {'completion_tokens': 361, 'prompt_tokens': 39, 'total_tokens': 400, 'completion_time': 1.445254177, 'prompt_time': 0.009327051, 'queue_time': 0.005094659000000001, 'total_time': 1.454581228}, 'model_name': 'llama-3.1-70b-versatile', 'system_fingerprint': 'fp_b6828be2c9', 'finish_reason': 'stop', 'logprobs': None}, id='run-b0071e74-29ad-4da3-938c-e0fb7baa87ee-0', usage_metadata={'input_tokens': 39, 'output_tokens': 361, 'total_tokens': 400})"
      ]
     },
     "execution_count": 31,
     "metadata": {},
     "output_type": "execute_result"
    }
   ],
   "source": [
    "model=ChatGroq(api_key=API_KEY, model=Model)\n",
    "model.invoke('What is coding?')"
   ]
  },
  {
   "cell_type": "code",
   "execution_count": 32,
   "metadata": {},
   "outputs": [],
   "source": [
    "parser=StrOutputParser()\n",
    "chain=model|parser"
   ]
  },
  {
   "cell_type": "code",
   "execution_count": 33,
   "metadata": {},
   "outputs": [
    {
     "data": {
      "text/plain": [
       "'Coding, also known as computer programming, is the process of designing, writing, testing, and maintaining the instructions that a computer follows to perform a specific task. These instructions, called \"code,\" are written in one or more programming languages, which are used to communicate with a computer.\\n\\nThink of coding like writing a recipe for a computer. Just as a recipe provides a step-by-step guide for a human to follow, code provides a set of instructions that a computer can execute to achieve a specific goal.\\n\\nCoding involves several steps:\\n\\n1. **Design**: Define the problem or goal, and plan how to solve it.\\n2. **Write**: Write the code in a programming language, such as Python, Java, or C++.\\n3. **Test**: Test the code to ensure it works as expected and fix any errors.\\n4. **Debug**: Identify and fix any errors or bugs in the code.\\n5. **Maintain**: Update and refine the code over time to ensure it continues to work correctly.\\n\\nCoding is used in many areas, including:\\n\\n1. **Software development**: Creating applications, games, and operating systems.\\n2. **Web development**: Building websites, web applications, and mobile applications.\\n3. **Artificial intelligence**: Developing AI and machine learning models.\\n4. **Data analysis**: Analyzing and visualizing data to gain insights.\\n5. **Automation**: Automating tasks and processes.\\n\\nThere are many programming languages, each with its own strengths and weaknesses. Some popular programming languages include:\\n\\n1. **Python**: Known for its simplicity and versatility.\\n2. **Java**: Widely used for Android app development and enterprise software.\\n3. **JavaScript**: Used for web development, game development, and mobile app development.\\n4. **C++**: A high-performance language used for operating systems, games, and other applications.\\n\\nOverall, coding is a fundamental skill in today\\'s technology-driven world, and it has many applications in various industries.'"
      ]
     },
     "execution_count": 33,
     "metadata": {},
     "output_type": "execute_result"
    }
   ],
   "source": [
    "chain.invoke('What is coding?')"
   ]
  },
  {
   "cell_type": "code",
   "execution_count": 34,
   "metadata": {},
   "outputs": [
    {
     "name": "stdout",
     "output_type": "stream",
     "text": [
      "f Total number of pages loaded :{len(all_pages)}\n"
     ]
    }
   ],
   "source": [
    "from langchain.document_loaders import PyPDFLoader\n",
    "# load the multiple PDF files from the directory\n",
    "import glob\n",
    "pdf_directory=\"PDF_files/*.pdf\"\n",
    "# find all the pdf files in the directory\n",
    "pdf_files=glob.glob(pdf_directory)\n",
    "# Initialize an empty list to store pages from all pdfs\n",
    "all_pages=[]\n",
    "# Loop over all the the PDF files and load them \n",
    "for pdf_files in pdf_files:\n",
    "    # create a files loader for each pdf file\n",
    "    file_loader=PyPDFLoader(pdf_files)\n",
    "    # load  and split the pages\n",
    "    pages=file_loader.load_and_split()\n",
    "    \n",
    "    #append the loaded pages to the all pages_list\n",
    "    all_pages.extend(pages)\n",
    "# Now all pages contain the combined images for all pdfs\n",
    "print(\"f Total number of pages loaded :{len(all_pages)}\")\n",
    "    \n",
    "    "
   ]
  },
  {
   "cell_type": "code",
   "execution_count": 35,
   "metadata": {},
   "outputs": [],
   "source": [
    "spliter=RecursiveCharacterTextSplitter(chunk_size=100, chunk_overlap=50)\n",
    "pages=spliter.split_documents(all_pages)"
   ]
  },
  {
   "cell_type": "code",
   "execution_count": 36,
   "metadata": {},
   "outputs": [],
   "source": [
    "vector_storage=FAISS.from_documents(pages, FakeEmbeddings(size=1352))\n",
    "retriever=vector_storage.as_retriever()"
   ]
  },
  {
   "cell_type": "code",
   "execution_count": 37,
   "metadata": {},
   "outputs": [],
   "source": [
    "question_template=\"\"\" \n",
    "your a smart bot that answers questions based on the context given to you only.\n",
    "Return the answer.\n",
    "context:{context}\n",
    "question:{question}\n",
    "\"\"\""
   ]
  },
  {
   "cell_type": "code",
   "execution_count": 38,
   "metadata": {},
   "outputs": [
    {
     "name": "stdout",
     "output_type": "stream",
     "text": [
      " \n",
      "your a smart bot that answers questions based on the context given to you only.\n",
      "Return the answer.\n",
      "context:Here is the context to use\n",
      "question:Answer this question based on the context\n",
      "\n"
     ]
    }
   ],
   "source": [
    "prompt=PromptTemplate.from_template(template=question_template)\n",
    "print(prompt.format(context='Here is the context to use',\n",
    "                    question='Answer this question based on the context'\n",
    "                    ))"
   ]
  },
  {
   "cell_type": "code",
   "execution_count": 39,
   "metadata": {},
   "outputs": [],
   "source": [
    "result=RunnableParallel(context=retriever, question=RunnablePassthrough())"
   ]
  },
  {
   "cell_type": "code",
   "execution_count": 40,
   "metadata": {},
   "outputs": [],
   "source": [
    "chain=result|prompt|model|parser"
   ]
  },
  {
   "cell_type": "code",
   "execution_count": 41,
   "metadata": {},
   "outputs": [
    {
     "data": {
      "text/plain": [
       "[Document(metadata={'source': 'PDF_files\\\\who-is-who-and-what-is-what-pdf-rkl.pdf', 'page': 135}, page_content='world oldest and biggest salt mines. Salt has been mined at Khewra since 320'),\n",
       " Document(metadata={'source': 'PDF_files\\\\pdfcoffee.com_general-knowledge-for-pakistan-pdf-pdf-free.pdf', 'page': 38}, page_content='Registers are contained in control unit and arithmetic Logic Unit.'),\n",
       " Document(metadata={'source': 'PDF_files\\\\who-is-who-and-what-is-what-pdf-rkl.pdf', 'page': 44}, page_content='First century was completed by Nazar Mohammd against India in 1954 in \\nLacknow. \\uf020'),\n",
       " Document(metadata={'source': 'PDF_files\\\\who-is-who-and-what-is-what-pdf-rkl (2).pdf', 'page': 354}, page_content='Current Location: Rome.  \\nMajor Highlights: Most powerful Ancient Civilization')]"
      ]
     },
     "execution_count": 41,
     "metadata": {},
     "output_type": "execute_result"
    }
   ],
   "source": [
    "retriever.invoke('Which English poet wrote A Shropshire Lad?')"
   ]
  },
  {
   "cell_type": "code",
   "execution_count": 44,
   "metadata": {},
   "outputs": [
    {
     "data": {
      "text/plain": [
       "'There is no information about Nazar Mohammad in the given context.'"
      ]
     },
     "execution_count": 44,
     "metadata": {},
     "output_type": "execute_result"
    }
   ],
   "source": [
    "chain.invoke('who is Nazar Mohammad')"
   ]
  },
  {
   "cell_type": "code",
   "execution_count": null,
   "metadata": {},
   "outputs": [],
   "source": []
  },
  {
   "cell_type": "code",
   "execution_count": null,
   "metadata": {},
   "outputs": [],
   "source": []
  }
 ],
 "metadata": {
  "kernelspec": {
   "display_name": "LLM",
   "language": "python",
   "name": "python3"
  },
  "language_info": {
   "codemirror_mode": {
    "name": "ipython",
    "version": 3
   },
   "file_extension": ".py",
   "mimetype": "text/x-python",
   "name": "python",
   "nbconvert_exporter": "python",
   "pygments_lexer": "ipython3",
   "version": "3.10.14"
  }
 },
 "nbformat": 4,
 "nbformat_minor": 2
}
